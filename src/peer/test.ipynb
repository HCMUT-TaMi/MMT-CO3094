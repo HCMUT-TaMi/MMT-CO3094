{
 "cells": [
  {
   "cell_type": "code",
   "execution_count": 53,
   "metadata": {},
   "outputs": [],
   "source": [
    "import peer_cli as CLI"
   ]
  },
  {
   "cell_type": "code",
   "execution_count": 17,
   "metadata": {},
   "outputs": [],
   "source": [
    "from peer_node import Node "
   ]
  },
  {
   "cell_type": "code",
   "execution_count": 5,
   "metadata": {},
   "outputs": [
    {
     "name": "stdout",
     "output_type": "stream",
     "text": [
      "haha\n"
     ]
    }
   ],
   "source": [
    "p = {\n",
    "    \"tami\" : 5, \n",
    "    \"va\" : 6\n",
    "}\n",
    "\n",
    "if \"va\" in p.keys(): \n",
    "    print(\"haha\")"
   ]
  },
  {
   "cell_type": "code",
   "execution_count": 14,
   "metadata": {},
   "outputs": [
    {
     "name": "stdout",
     "output_type": "stream",
     "text": [
      "My local IP address: 191.16.17.118\n"
     ]
    }
   ],
   "source": [
    "import socket\n",
    "\n",
    "def get_local_ip():\n",
    "    try:\n",
    "        # Create a socket connection to Google's DNS server\n",
    "        with socket.socket(socket.AF_INET, socket.SOCK_DGRAM) as s:\n",
    "            s.connect((\"8.8.8.8\", 80))  # Connect to 8.8.8.8 on port 80 (no actual data sent)\n",
    "            local_ip = s.getsockname()[0]  # Get the local IP address\n",
    "        return local_ip\n",
    "    except Exception as e:\n",
    "        print(f\"Error getting local IP: {e}\")\n",
    "        return None\n",
    "\n",
    "# Example usage\n",
    "my_ip = get_local_ip()\n",
    "if my_ip:\n",
    "    print(f\"My local IP address: {my_ip}\")"
   ]
  }
 ],
 "metadata": {
  "kernelspec": {
   "display_name": "base",
   "language": "python",
   "name": "python3"
  },
  "language_info": {
   "codemirror_mode": {
    "name": "ipython",
    "version": 3
   },
   "file_extension": ".py",
   "mimetype": "text/x-python",
   "name": "python",
   "nbconvert_exporter": "python",
   "pygments_lexer": "ipython3",
   "version": "3.12.4"
  }
 },
 "nbformat": 4,
 "nbformat_minor": 2
}
