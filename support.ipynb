{
 "cells": [
  {
   "cell_type": "code",
   "execution_count": 157,
   "metadata": {},
   "outputs": [],
   "source": [
    "def count_piece_availability(bitfields, total_pieces):\n",
    "    \"\"\"\n",
    "    Count how many peers have each piece using bitwise operations.\n",
    "\n",
    "    Args:\n",
    "        bitfields (list[int]): List of peer bitfields.\n",
    "        total_pieces (int): Total number of pieces.\n",
    "\n",
    "    Returns:\n",
    "        list[int]: List of counts for each piece.\n",
    "    \"\"\"\n",
    "    counts = [0] * total_pieces  # Initialize counts for each piece\n",
    "\n",
    "    for peer, bitfield in bitfields.items():\n",
    "        print(f\"Peer {peer} have bitfield {bitfield} \\n\")\n",
    "        for i in range(total_pieces):\n",
    "            print((bitfield >> i) & 1)  #   Extracrt the Corresponding Piece\n",
    "            if bitfield & (1 << i):  # Check if the piece is available in this peer\n",
    "                counts[i] += 1\n",
    "\n",
    "    print (counts)\n",
    "    return counts\n",
    "\n",
    "def rarest_first(bitfields, total_pieces):\n",
    "    \"\"\"\n",
    "    Run the Rarest-First Algorithm using bitwise operations.\n",
    "\n",
    "    Args:\n",
    "        bitfields (list[int]): List of peer bitfields.\n",
    "        total_pieces (int): Total number of pieces.\n",
    "\n",
    "    Returns:\n",
    "        list[int]: List of pieces sorted by rarity.\n",
    "    \"\"\"\n",
    "    counts = count_piece_availability(bitfields, total_pieces)\n",
    "\n",
    "    sorted_pieces = sorted(range(total_pieces), key = lambda piece : counts[piece])\n",
    "\n",
    "    return sorted_pieces\n"
   ]
  },
  {
   "cell_type": "code",
   "execution_count": 158,
   "metadata": {},
   "outputs": [
    {
     "name": "stdout",
     "output_type": "stream",
     "text": [
      "Peer 1 have bitfield 21 \n",
      "\n",
      "1\n",
      "0\n",
      "1\n",
      "0\n",
      "1\n",
      "Peer 2 have bitfield 25 \n",
      "\n",
      "1\n",
      "0\n",
      "0\n",
      "1\n",
      "1\n",
      "Peer 3 have bitfield 30 \n",
      "\n",
      "0\n",
      "1\n",
      "1\n",
      "1\n",
      "1\n",
      "[2, 1, 2, 2, 3]\n",
      "Pieces sorted by rarity: [1, 0, 2, 3, 4]\n"
     ]
    }
   ],
   "source": [
    "bitfields = {\n",
    "    1: 0b10101, \n",
    "    2: 0b11001,  \n",
    "    3: 0b11110, \n",
    "}\n",
    "\n",
    "total_pieces = 5  # Total number of pieces\n",
    "\n",
    "sorted_pieces = rarest_first(bitfields, total_pieces)\n",
    "print(\"Pieces sorted by rarity:\", sorted_pieces)"
   ]
  },
  {
   "cell_type": "code",
   "execution_count": 159,
   "metadata": {},
   "outputs": [],
   "source": [
    "import hashlib \n",
    "def sha1_hash(input_string):\n",
    "    sha1 = hashlib.sha1()\n",
    "    sha1.update(input_string.encode('utf-8'))  # Encode the string to bytes\n",
    "    return sha1.hexdigest()  # Return the hexadecimal digest"
   ]
  },
  {
   "cell_type": "code",
   "execution_count": 160,
   "metadata": {},
   "outputs": [
    {
     "name": "stdout",
     "output_type": "stream",
     "text": [
      "0d1ee5ebd2b8fe4a4528099bd075de79e76bca7b\n",
      "ab84a3b98e3776adcb95ab2bed06ea83ec4c7e19\n"
     ]
    }
   ],
   "source": [
    "File = \"Alice.txt\" \n",
    "Fragment1 = \"Alice#1.txt\" \n",
    "File = sha1_hash(File)\n",
    "Fragment1 = sha1_hash(Fragment1) \n",
    "print(File) \n",
    "print(Fragment1) "
   ]
  },
  {
   "cell_type": "code",
   "execution_count": 161,
   "metadata": {},
   "outputs": [
    {
     "name": "stdout",
     "output_type": "stream",
     "text": [
      "Binary Representation: 0b000001\n"
     ]
    }
   ],
   "source": [
    "position = 1\n",
    "num_of_pieces = 6  # Total number of bits\n",
    "\n",
    "# Set the bit at the desired position\n",
    "binary_representation = format(1 << (position - 1), f'0{num_of_pieces}b')\n",
    "print(f\"Binary Representation: 0b{binary_representation}\")\n"
   ]
  },
  {
   "cell_type": "code",
   "execution_count": 162,
   "metadata": {},
   "outputs": [
    {
     "name": "stdout",
     "output_type": "stream",
     "text": [
      "5 -> 000010\n",
      "1 -> 100000\n"
     ]
    }
   ],
   "source": [
    "def convert_to_position_binary(position, total_fragments):\n",
    "    if position >= total_fragments:\n",
    "        raise ValueError(\"Position must be less than total number of fragments\")\n",
    "    \n",
    "    # Shift 1 to the correct position and format it as a binary string\n",
    "    reversed_position = total_fragments - position\n",
    "    binary_representation = format(1 << abs(reversed_position), f'0{total_fragments}b')\n",
    "    return binary_representation\n",
    "\n",
    "# Example usage\n",
    "total_fragments = 6\n",
    "print(f\"5 -> {convert_to_position_binary(5, total_fragments)}\")  # Output: \"000001\"\n",
    "print(f\"1 -> {convert_to_position_binary(1, total_fragments)}\")  # Output: \"100000\""
   ]
  },
  {
   "cell_type": "code",
   "execution_count": 163,
   "metadata": {},
   "outputs": [
    {
     "name": "stdout",
     "output_type": "stream",
     "text": [
      "HELLO\n"
     ]
    }
   ],
   "source": [
    "str = \"1101\"\n",
    "if str[1] == \"1\": \n",
    "    print(\"HELLO\")"
   ]
  },
  {
   "cell_type": "code",
   "execution_count": null,
   "metadata": {},
   "outputs": [],
   "source": [
    "def insertion_sort(arr):\n",
    "    for i in range(1, len(arr)):\n",
    "        key = arr[i]  \n",
    "        j = i - 1\n",
    "\n",
    "        while j >= 0 and arr[j] > key:\n",
    "            arr[j + 1] = arr[j]\n",
    "            j -= 1\n",
    "        \n",
    "        arr[j + 1] = key\n",
    "\n",
    "    return arr  "
   ]
  },
  {
   "cell_type": "code",
   "execution_count": 176,
   "metadata": {},
   "outputs": [
    {
     "name": "stdout",
     "output_type": "stream",
     "text": [
      "Fragment Availability: Counter({4: 3, 1: 2, 0: 1, 3: 1, 5: 1})\n",
      "Fragments Sorted by Rarity: [0, 3, 5, 1, 4]\n",
      "Peer Download Plan: {'Peer1': [0, 4], 'Peer2': [3, 1], 'Peer3': [5]}\n"
     ]
    }
   ],
   "source": [
    "import random\n",
    "from collections import Counter\n",
    "\n",
    "# Example: peers with their fragment lists (1 means \"has it\", 0 means \"does not have it\")\n",
    "peers = {\n",
    "    \"Peer1\": [1, 0, 0, 0, 1, 0],\n",
    "    \"Peer2\": [0, 1, 0, 1, 1, 0],\n",
    "    \"Peer3\": [0, 1, 0, 0, 1, 1],\n",
    "}\n",
    "\n",
    "# Step 1: Count fragment availability\n",
    "num_fragments = len(peers[\"Peer1\"])\n",
    "fragment_count = Counter()\n",
    "\n",
    "for bitfield in peers.values():\n",
    "    for i, has_piece in enumerate(bitfield):\n",
    "        if has_piece:\n",
    "            fragment_count[i] += 1\n",
    "\n",
    "sorted_fragments = sorted(fragment_count.keys(), key=lambda x: fragment_count[x])\n",
    "\n",
    "needed_fragments = set(range(num_fragments))  # Assume you need all fragments\n",
    "peer_download_plan = {peer: [] for peer in peers}\n",
    "\n",
    "\n",
    "peer_dowload_number = []\n",
    "\n",
    "for fragment in sorted_fragments:\n",
    "    if fragment not in needed_fragments:\n",
    "        continue\n",
    "    available_peers = [peer for peer, bitfield in peers.items() if bitfield[fragment]]\n",
    "    min_peer = min(available_peers,key=lambda p: len(peer_download_plan[p])) \n",
    "    peer_download_plan[min_peer].append(fragment)\n",
    "    needed_fragments.remove(fragment)\n",
    "    \n",
    "\n",
    "print(\"Fragment Availability:\", fragment_count)\n",
    "print(\"Fragments Sorted by Rarity:\", sorted_fragments)\n",
    "print(\"Peer Download Plan:\", peer_download_plan)"
   ]
  },
  {
   "cell_type": "code",
   "execution_count": 179,
   "metadata": {},
   "outputs": [
    {
     "name": "stdout",
     "output_type": "stream",
     "text": [
      "000000\n"
     ]
    }
   ],
   "source": [
    "mess = \"0\"*6\n",
    "print(mess)"
   ]
  },
  {
   "cell_type": "code",
   "execution_count": null,
   "metadata": {},
   "outputs": [
    {
     "name": "stdout",
     "output_type": "stream",
     "text": [
      "TaMi\n"
     ]
    }
   ],
   "source": [
    "from dataclasses import dataclass\n",
    "\n",
    "@dataclass\n",
    "class FileInfo:\n",
    "    file_name: str\n",
    "    file_hash: dict[int,str]\n",
    "    total_fragments: int\n",
    "    size: int \n",
    "\n",
    "test = dict[str,FileInfo] \n",
    "test = {\n",
    "    \"1\": FileInfo(\"TaMi\",{123:\"123\"},1,10)\n",
    "}\n",
    "\n",
    "print(test[\"1\"].file_name)"
   ]
  },
  {
   "cell_type": "code",
   "execution_count": 10,
   "metadata": {},
   "outputs": [],
   "source": [
    "torrents = {\n",
    "    \"1\": FileInfo(\"TaMi\",{123:\"123\"},1,10)\n",
    "}"
   ]
  },
  {
   "cell_type": "code",
   "execution_count": 9,
   "metadata": {},
   "outputs": [],
   "source": [
    "def looksfor(\n",
    "        info: str\n",
    "    ):\n",
    "        files = torrents[info]\n",
    "        fragment_lists = [i for i in files.file_hash.keys()]\n",
    "        return fragment_lists"
   ]
  },
  {
   "cell_type": "code",
   "execution_count": 11,
   "metadata": {},
   "outputs": [
    {
     "name": "stdout",
     "output_type": "stream",
     "text": [
      "[123]\n"
     ]
    }
   ],
   "source": [
    "print(looksfor(\"1\"))"
   ]
  },
  {
   "cell_type": "code",
   "execution_count": 6,
   "metadata": {},
   "outputs": [
    {
     "name": "stderr",
     "output_type": "stream",
     "text": [
      "INFO:Tracker:Tracker starting on localhost:6880\n"
     ]
    },
    {
     "ename": "KeyboardInterrupt",
     "evalue": "",
     "output_type": "error",
     "traceback": [
      "\u001b[0;31m---------------------------------------------------------------------------\u001b[0m",
      "\u001b[0;31mKeyboardInterrupt\u001b[0m                         Traceback (most recent call last)",
      "Cell \u001b[0;32mIn[6], line 2\u001b[0m\n\u001b[1;32m      1\u001b[0m script_path \u001b[38;5;241m=\u001b[39m \u001b[38;5;124m\"\u001b[39m\u001b[38;5;124m./src/tracker/tracker.py\u001b[39m\u001b[38;5;124m\"\u001b[39m\n\u001b[0;32m----> 2\u001b[0m subprocess\u001b[38;5;241m.\u001b[39mrun([\u001b[38;5;124m\"\u001b[39m\u001b[38;5;124mpython\u001b[39m\u001b[38;5;124m\"\u001b[39m, script_path])\n",
      "File \u001b[0;32m/opt/anaconda3/lib/python3.12/subprocess.py:550\u001b[0m, in \u001b[0;36mrun\u001b[0;34m(input, capture_output, timeout, check, *popenargs, **kwargs)\u001b[0m\n\u001b[1;32m    548\u001b[0m \u001b[38;5;28;01mwith\u001b[39;00m Popen(\u001b[38;5;241m*\u001b[39mpopenargs, \u001b[38;5;241m*\u001b[39m\u001b[38;5;241m*\u001b[39mkwargs) \u001b[38;5;28;01mas\u001b[39;00m process:\n\u001b[1;32m    549\u001b[0m     \u001b[38;5;28;01mtry\u001b[39;00m:\n\u001b[0;32m--> 550\u001b[0m         stdout, stderr \u001b[38;5;241m=\u001b[39m process\u001b[38;5;241m.\u001b[39mcommunicate(\u001b[38;5;28minput\u001b[39m, timeout\u001b[38;5;241m=\u001b[39mtimeout)\n\u001b[1;32m    551\u001b[0m     \u001b[38;5;28;01mexcept\u001b[39;00m TimeoutExpired \u001b[38;5;28;01mas\u001b[39;00m exc:\n\u001b[1;32m    552\u001b[0m         process\u001b[38;5;241m.\u001b[39mkill()\n",
      "File \u001b[0;32m/opt/anaconda3/lib/python3.12/subprocess.py:1201\u001b[0m, in \u001b[0;36mPopen.communicate\u001b[0;34m(self, input, timeout)\u001b[0m\n\u001b[1;32m   1199\u001b[0m         stderr \u001b[38;5;241m=\u001b[39m \u001b[38;5;28mself\u001b[39m\u001b[38;5;241m.\u001b[39mstderr\u001b[38;5;241m.\u001b[39mread()\n\u001b[1;32m   1200\u001b[0m         \u001b[38;5;28mself\u001b[39m\u001b[38;5;241m.\u001b[39mstderr\u001b[38;5;241m.\u001b[39mclose()\n\u001b[0;32m-> 1201\u001b[0m     \u001b[38;5;28mself\u001b[39m\u001b[38;5;241m.\u001b[39mwait()\n\u001b[1;32m   1202\u001b[0m \u001b[38;5;28;01melse\u001b[39;00m:\n\u001b[1;32m   1203\u001b[0m     \u001b[38;5;28;01mif\u001b[39;00m timeout \u001b[38;5;129;01mis\u001b[39;00m \u001b[38;5;129;01mnot\u001b[39;00m \u001b[38;5;28;01mNone\u001b[39;00m:\n",
      "File \u001b[0;32m/opt/anaconda3/lib/python3.12/subprocess.py:1264\u001b[0m, in \u001b[0;36mPopen.wait\u001b[0;34m(self, timeout)\u001b[0m\n\u001b[1;32m   1262\u001b[0m     endtime \u001b[38;5;241m=\u001b[39m _time() \u001b[38;5;241m+\u001b[39m timeout\n\u001b[1;32m   1263\u001b[0m \u001b[38;5;28;01mtry\u001b[39;00m:\n\u001b[0;32m-> 1264\u001b[0m     \u001b[38;5;28;01mreturn\u001b[39;00m \u001b[38;5;28mself\u001b[39m\u001b[38;5;241m.\u001b[39m_wait(timeout\u001b[38;5;241m=\u001b[39mtimeout)\n\u001b[1;32m   1265\u001b[0m \u001b[38;5;28;01mexcept\u001b[39;00m \u001b[38;5;167;01mKeyboardInterrupt\u001b[39;00m:\n\u001b[1;32m   1266\u001b[0m     \u001b[38;5;66;03m# https://bugs.python.org/issue25942\u001b[39;00m\n\u001b[1;32m   1267\u001b[0m     \u001b[38;5;66;03m# The first keyboard interrupt waits briefly for the child to\u001b[39;00m\n\u001b[1;32m   1268\u001b[0m     \u001b[38;5;66;03m# exit under the common assumption that it also received the ^C\u001b[39;00m\n\u001b[1;32m   1269\u001b[0m     \u001b[38;5;66;03m# generated SIGINT and will exit rapidly.\u001b[39;00m\n\u001b[1;32m   1270\u001b[0m     \u001b[38;5;28;01mif\u001b[39;00m timeout \u001b[38;5;129;01mis\u001b[39;00m \u001b[38;5;129;01mnot\u001b[39;00m \u001b[38;5;28;01mNone\u001b[39;00m:\n",
      "File \u001b[0;32m/opt/anaconda3/lib/python3.12/subprocess.py:2053\u001b[0m, in \u001b[0;36mPopen._wait\u001b[0;34m(self, timeout)\u001b[0m\n\u001b[1;32m   2051\u001b[0m \u001b[38;5;28;01mif\u001b[39;00m \u001b[38;5;28mself\u001b[39m\u001b[38;5;241m.\u001b[39mreturncode \u001b[38;5;129;01mis\u001b[39;00m \u001b[38;5;129;01mnot\u001b[39;00m \u001b[38;5;28;01mNone\u001b[39;00m:\n\u001b[1;32m   2052\u001b[0m     \u001b[38;5;28;01mbreak\u001b[39;00m  \u001b[38;5;66;03m# Another thread waited.\u001b[39;00m\n\u001b[0;32m-> 2053\u001b[0m (pid, sts) \u001b[38;5;241m=\u001b[39m \u001b[38;5;28mself\u001b[39m\u001b[38;5;241m.\u001b[39m_try_wait(\u001b[38;5;241m0\u001b[39m)\n\u001b[1;32m   2054\u001b[0m \u001b[38;5;66;03m# Check the pid and loop as waitpid has been known to\u001b[39;00m\n\u001b[1;32m   2055\u001b[0m \u001b[38;5;66;03m# return 0 even without WNOHANG in odd situations.\u001b[39;00m\n\u001b[1;32m   2056\u001b[0m \u001b[38;5;66;03m# http://bugs.python.org/issue14396.\u001b[39;00m\n\u001b[1;32m   2057\u001b[0m \u001b[38;5;28;01mif\u001b[39;00m pid \u001b[38;5;241m==\u001b[39m \u001b[38;5;28mself\u001b[39m\u001b[38;5;241m.\u001b[39mpid:\n",
      "File \u001b[0;32m/opt/anaconda3/lib/python3.12/subprocess.py:2011\u001b[0m, in \u001b[0;36mPopen._try_wait\u001b[0;34m(self, wait_flags)\u001b[0m\n\u001b[1;32m   2009\u001b[0m \u001b[38;5;250m\u001b[39m\u001b[38;5;124;03m\"\"\"All callers to this function MUST hold self._waitpid_lock.\"\"\"\u001b[39;00m\n\u001b[1;32m   2010\u001b[0m \u001b[38;5;28;01mtry\u001b[39;00m:\n\u001b[0;32m-> 2011\u001b[0m     (pid, sts) \u001b[38;5;241m=\u001b[39m os\u001b[38;5;241m.\u001b[39mwaitpid(\u001b[38;5;28mself\u001b[39m\u001b[38;5;241m.\u001b[39mpid, wait_flags)\n\u001b[1;32m   2012\u001b[0m \u001b[38;5;28;01mexcept\u001b[39;00m \u001b[38;5;167;01mChildProcessError\u001b[39;00m:\n\u001b[1;32m   2013\u001b[0m     \u001b[38;5;66;03m# This happens if SIGCLD is set to be ignored or waiting\u001b[39;00m\n\u001b[1;32m   2014\u001b[0m     \u001b[38;5;66;03m# for child processes has otherwise been disabled for our\u001b[39;00m\n\u001b[1;32m   2015\u001b[0m     \u001b[38;5;66;03m# process.  This child is dead, we can't get the status.\u001b[39;00m\n\u001b[1;32m   2016\u001b[0m     pid \u001b[38;5;241m=\u001b[39m \u001b[38;5;28mself\u001b[39m\u001b[38;5;241m.\u001b[39mpid\n",
      "\u001b[0;31mKeyboardInterrupt\u001b[0m: "
     ]
    }
   ],
   "source": [
    "script_path = \"./src/tracker/tracker.py\"\n",
    "subprocess.run([\"python\", script_path])"
   ]
  },
  {
   "cell_type": "code",
   "execution_count": null,
   "metadata": {},
   "outputs": [
    {
     "name": "stdout",
     "output_type": "stream",
     "text": [
      "./data/guest\n",
      "./data/guest/torrents.json\n",
      "./data/guest/files\n",
      "Cannot connect to Tracker due to: [Errno 61] Connection refused \n",
      " PEER WILL BE DISABLE\n"
     ]
    },
    {
     "name": "stderr",
     "output_type": "stream",
     "text": [
      "ERROR:root:Failed to load config: [Errno 2] No such file or directory: './config/peer1.json'\n"
     ]
    },
    {
     "data": {
      "text/plain": [
       "CompletedProcess(args=['python', './src/peer/peer.py', 'peer1'], returncode=0)"
      ]
     },
     "execution_count": 5,
     "metadata": {},
     "output_type": "execute_result"
    }
   ],
   "source": [
    "import subprocess\n",
    "script_path = \"./src/peer/peer.py\"\n",
    "args = [\"peer1\"]\n",
    "subprocess.run([\"python\", script_path] + args)"
   ]
  }
 ],
 "metadata": {
  "kernelspec": {
   "display_name": "base",
   "language": "python",
   "name": "python3"
  },
  "language_info": {
   "codemirror_mode": {
    "name": "ipython",
    "version": 3
   },
   "file_extension": ".py",
   "mimetype": "text/x-python",
   "name": "python",
   "nbconvert_exporter": "python",
   "pygments_lexer": "ipython3",
   "version": "3.12.4"
  }
 },
 "nbformat": 4,
 "nbformat_minor": 2
}
